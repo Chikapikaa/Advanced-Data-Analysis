{
 "cells": [
  {
   "cell_type": "markdown",
   "id": "f2e1e389",
   "metadata": {},
   "source": [
    "# פרוייקט בניתוח נתונים מתקדם בפייתון\n",
    "### מקסים פולק 209383322\n",
    "### [Github link](https://github.com/Chikapikaa/Advanced-Data-Analysis)"
   ]
  },
  {
   "cell_type": "code",
   "execution_count": null,
   "id": "afd3bd62",
   "metadata": {},
   "outputs": [],
   "source": [
    "import requests\n",
    "from bs4 import BeautifulSoup\n",
    "import pandas as pd\n",
    "import numpy as np\n",
    "import json"
   ]
  },
  {
   "cell_type": "code",
   "execution_count": null,
   "id": "d05cf525",
   "metadata": {},
   "outputs": [],
   "source": [
    "my_url = \"https://www.ad.co.il/nadlanrent?sp275=17413&sp277=17650,17793\"\n",
    "headers = {'User-Agent': 'Mozilla/5.0 (Windows NT 10.0) AppleWebKit/537.36 (KHTML, like Gecko) Chrome/113.0.0.0 Safari/537.36'} # This is chrome, you can set whatever browser you like\n",
    "api_key = input(\"Enter Your API Key Here !\")\n",
    "html = requests.get(my_url,headers= headers)\n",
    "if html.status_code == 200:\n",
    "    print(\"Success\")\n",
    "else:\n",
    "    print(\"Failure\")"
   ]
  },
  {
   "cell_type": "code",
   "execution_count": null,
   "id": "d2829239",
   "metadata": {
    "scrolled": false
   },
   "outputs": [],
   "source": [
    "ads_links = []\n",
    "pageindex = 1\n",
    "while True:\n",
    "    url = f\"{my_url}&pageindex={pageindex}\"\n",
    "    html = requests.get(url)\n",
    "    soup = BeautifulSoup(html.content, 'html.parser')\n",
    "    main = soup.find('main')\n",
    "    if not main:\n",
    "        print(\"Finish\")\n",
    "        break\n",
    "    ads = main.find_all(\"div\", class_=\"card-body p-md-3\")\n",
    "    if not ads:\n",
    "        break\n",
    "    for ad in ads:\n",
    "        a_tag = ad.find('a')\n",
    "        if a_tag and a_tag.get('href'):\n",
    "            full_url = \"https://www.ad.co.il\" + a_tag.get('href')\n",
    "            ads_links.append(full_url)\n",
    "    pageindex += 1\n",
    "print(f\"\\nסה״כ {len(ads_links)} מודעות נאספו.\")\n",
    "print(ads_links)"
   ]
  },
  {
   "cell_type": "code",
   "execution_count": null,
   "id": "f7b32489",
   "metadata": {},
   "outputs": [],
   "source": [
    "def extract_apartment_data_from_ad_page(url):\n",
    "        headers = {'User-Agent': 'Mozilla/5.0 (Windows NT 10.0) AppleWebKit/537.36 (KHTML, like Gecko) Chrome/113.0.0.0 Safari/537.36'}\n",
    "        html = requests.get(url,headers= headers)\n",
    "        if html.status_code == 200:\n",
    "            print(\"Success\")\n",
    "        else:\n",
    "            print(\"Failure\")\n",
    "        try:\n",
    "            soup = BeautifulSoup(html.content, \"html.parser\")\n",
    "            ##### creating dictionary for part of the details ####   \n",
    "            table = soup.find(\"table\" , class_=\"table table-sm mb-4\")\n",
    "            details_dict = {}\n",
    "            for row in table.find_all(\"tr\"):\n",
    "                cells = row.find_all(\"td\")\n",
    "                if len(cells) == 2:\n",
    "                    key = cells[0].get_text(strip=True)\n",
    "                    value = cells[1].get_text(strip=True)\n",
    "                    details_dict[key] = value\n",
    "            ## קומות        \n",
    "            floors = details_dict['קומה'].split()\n",
    "            if \"קרקע\" in floors[0]:\n",
    "                floor_num = 0\n",
    "            else: \n",
    "                floor_num = int(floors[0])\n",
    "            if \"קרקע\" in floors[2]:\n",
    "                number_of_floors = 0\n",
    "            else: \n",
    "                number_of_floors = int(floors[2])\n",
    "            ## תאריך כניסה\n",
    "            entry = details_dict.get('תאריך כניסה', '').strip()\n",
    "\n",
    "            if entry == \"\" or entry == \"מיידית\":\n",
    "                days_to_enter = 0\n",
    "            else:\n",
    "                days_to_enter = entry  \n",
    "            ###### more info \n",
    "            info = soup.find(\"p\" , class_=\"text-word-break\").text\n",
    "            \n",
    "\n",
    "\n",
    "            ###### Boolean shit     \n",
    "            booleans = soup.find(\"div\", class_ = \"card-icons flex-wrap d-flex h-100\")\n",
    "            features = {}\n",
    "            icons = booleans.find_all(\"div\", class_=\"card-icon\")\n",
    "            for icon in icons:\n",
    "                label = icon.find(\"span\").get_text(strip=True)\n",
    "                icon_class = icon.find(\"i\")[\"class\"]\n",
    "                has_feature = 1 if \"fa-check\" in icon_class else 0\n",
    "                features[label] = has_feature\n",
    "\n",
    "\n",
    "            ##### Price\n",
    "            price_str = soup.find(\"div\" , class_ = \"d-flex justify-content-between\").find_all(\"h2\")[1].text\n",
    "            price = float(price_str.replace(\"₪\", \"\").replace(\",\", \"\").strip())\n",
    "\n",
    "\n",
    "            ##### Imgs            \n",
    "            stam = soup.find(\"div\", class_=\"col-12 d-flex mt-3 justify-content-center flex-wrap\")\n",
    "            Imgs = len(stam.find_all(\"div\", class_=\"justify-content-center px-1\")) if stam else 0\n",
    "            \n",
    "            ##### distance-matrix\n",
    "            \n",
    "            try:\n",
    "                origin = details_dict.get(\"כתובת\", \"\") + \", תל אביב\"\n",
    "                destination = \"Dizengoff Square, Tel Aviv\"\n",
    "\n",
    "                dm_url = \"https://maps.googleapis.com/maps/api/distancematrix/json\"\n",
    "\n",
    "                params = {\n",
    "                    \"origins\": origin,\n",
    "                    \"destinations\": destination,\n",
    "                    \"key\": api_key,\n",
    "                    \"language\": \"he\",\n",
    "                    \"units\": \"metric\"\n",
    "                }\n",
    "\n",
    "                response = requests.get(dm_url, params=params)\n",
    "                data = response.json()\n",
    "\n",
    "                if response.status_code == 200:\n",
    "                    distance_meters = data['rows'][0]['elements'][0]['distance']['value']\n",
    "                    distance_km = round(distance_meters / 1000, 2)\n",
    "                    distance_from_center = distance_km\n",
    "                else:\n",
    "                    print(\"שגיאה ב-Distance Matrix:\", response.status_code)\n",
    "                    distance_from_center = np.nan\n",
    "\n",
    "            except Exception as e:\n",
    "                print(f\"שגיאה בשירות Distance Matrix: {e}\")\n",
    "                distance_from_center = np.nan\n",
    "            \n",
    "            ### החזרות\n",
    "            return {\n",
    "                \"property_type\": str(details_dict[\"פרטי הנכס\"]),\n",
    "                \"neighborhood\": str(details_dict[\"שכונה\"]),\n",
    "                \"address\": str(details_dict['כתובת']),\n",
    "                \"room_num\": float(details_dict['חדרים']),\n",
    "                \"floor\": int(floor_num), \n",
    "                \"area\": int(details_dict['שטח בנוי']),\n",
    "                \"garden_area\": int(details_dict.get('שטח גינה', 0)), \n",
    "                \"days_to_enter\": int(days_to_enter),\n",
    "                \"num_of_payments\": int(details_dict['תשלומים בשנה']),\n",
    "                \"monthly_arnona\": int(details_dict['ארנונה בחודש']) if 'ארנונה בחודש' in details_dict else np.nan,\n",
    "                \"building_tax\": int(details_dict['ועד בית בחודש']) if 'ועד בית בחודש' in details_dict else np.nan,\n",
    "                \"total_floors\": int(number_of_floors),\n",
    "                \"description\": info.replace(\"\\r\\n\", \" \").strip(),\n",
    "                \"has_parking\": int(features['חניה']),\n",
    "                \"has_stotsge\": int(features['מחסן']),\n",
    "                \"elevator\": int(features['מעלית']),\n",
    "                \"ac\": int(features['מזגן']),\n",
    "                \"handicap\": int(features['נגישות']),\n",
    "                \"has_bars\": int(features['סורגים']),\n",
    "                \"has_safe_room\": int(features['ממ\"ד']),\n",
    "                \"has_balcon\": int(features['מרפסת']),\n",
    "                \"is_furnished\": int(features['מרוהטת']),\n",
    "                \"is_renovated\": int(features['משופצת']),\n",
    "                \"price\": float(price),\n",
    "                \"num_of_images\": int(Imgs),\n",
    "                \"distance_from_center\": distance_from_center,\n",
    "            }\n",
    "\n",
    "        except Exception as e:\n",
    "            print(f\"שגיאה במודעה {url}: {e}\")\n",
    "            return None"
   ]
  },
  {
   "cell_type": "code",
   "execution_count": null,
   "id": "f0101b4c",
   "metadata": {},
   "outputs": [],
   "source": [
    "extract_apartment_data_from_ad_page(\"https://www.ad.co.il/ad/16191410\")"
   ]
  },
  {
   "cell_type": "code",
   "execution_count": null,
   "id": "870deb54",
   "metadata": {
    "scrolled": true
   },
   "outputs": [],
   "source": [
    "all_ads_data = []\n",
    "for i, link in enumerate(ads_links, start=1):\n",
    "    print(f\"מעבד מודעה {i} מתוך {len(ads_links)}: {link}\")\n",
    "    data = extract_apartment_data_from_ad_page(link)\n",
    "    if data:\n",
    "        all_ads_data.append(data)"
   ]
  },
  {
   "cell_type": "code",
   "execution_count": null,
   "id": "99eb7b21",
   "metadata": {},
   "outputs": [],
   "source": [
    "df = pd.DataFrame(all_ads_data)"
   ]
  },
  {
   "cell_type": "code",
   "execution_count": null,
   "id": "13775273",
   "metadata": {},
   "outputs": [],
   "source": [
    "df.head(30)"
   ]
  },
  {
   "cell_type": "code",
   "execution_count": null,
   "id": "49c3aa6a",
   "metadata": {},
   "outputs": [],
   "source": [
    "df.to_csv(\"tel_aviv_rent_data.csv\", index=False, encoding=\"utf-8-sig\")"
   ]
  },
  {
   "cell_type": "code",
   "execution_count": null,
   "id": "79478e9b",
   "metadata": {},
   "outputs": [],
   "source": []
  },
  {
   "cell_type": "code",
   "execution_count": null,
   "id": "661771a1",
   "metadata": {},
   "outputs": [],
   "source": []
  },
  {
   "cell_type": "code",
   "execution_count": null,
   "id": "5888451d",
   "metadata": {},
   "outputs": [],
   "source": []
  }
 ],
 "metadata": {
  "kernelspec": {
   "display_name": "Python 3 (ipykernel)",
   "language": "python",
   "name": "python3"
  },
  "language_info": {
   "codemirror_mode": {
    "name": "ipython",
    "version": 3
   },
   "file_extension": ".py",
   "mimetype": "text/x-python",
   "name": "python",
   "nbconvert_exporter": "python",
   "pygments_lexer": "ipython3",
   "version": "3.9.13"
  }
 },
 "nbformat": 4,
 "nbformat_minor": 5
}
